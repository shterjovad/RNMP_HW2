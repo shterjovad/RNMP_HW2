{
 "cells": [
  {
   "cell_type": "code",
   "execution_count": 1,
   "id": "a0a4ea91-65c6-421e-88a4-849122a02cfc",
   "metadata": {},
   "outputs": [
    {
     "name": "stderr",
     "output_type": "stream",
     "text": [
      "Setting default log level to \"WARN\".\n",
      "To adjust logging level use sc.setLogLevel(newLevel). For SparkR, use setLogLevel(newLevel).\n",
      "24/01/21 20:41:37 WARN NativeCodeLoader: Unable to load native-hadoop library for your platform... using builtin-java classes where applicable\n"
     ]
    }
   ],
   "source": [
    "import warnings\n",
    "warnings.filterwarnings('ignore')\n",
    "\n",
    "from pyspark.sql import SparkSession\n",
    "from pyspark.sql.types import StructType, StructField, IntegerType, DoubleType\n",
    "from pyspark.ml.recommendation import ALS\n",
    "from pyspark.ml.evaluation import RegressionEvaluator\n",
    "\n",
    "spark = SparkSession.builder.master(\"local[*]\").appName(\"Test\").getOrCreate()"
   ]
  },
  {
   "cell_type": "markdown",
   "id": "c656df0a-a5d4-4c3b-a698-5d286f8e87c9",
   "metadata": {},
   "source": [
    "# Executing ALS on MovieLens with PySpark\n",
    "The collaborative filtering algorithm, Alternating Least Squares (ALS), is widely recognized for matrix factorization.\n",
    "\n",
    "This notebook demonstrates the application and assessment of the ALS PySpark ML implementation, which is based on the DataFrame API and designed for handling large-scale distributed datasets. To ensure efficient execution on multiple cores of a Data Science Virtual Machine, we utilize a smaller dataset in this example for running ALS."
   ]
  },
  {
   "cell_type": "markdown",
   "id": "16a52668-b97d-45af-8919-2df99cd62e18",
   "metadata": {},
   "source": [
    "## Read Data:\n",
    "Reading the data in df. \n",
    "\n",
    "u.data     --   The full u data set, 100000 ratings by 943 users on 1682 items. Each user has rated at least 20 movies.  Users and items are numbered consecutively from 1.  The data is randomly ordered. This is a tab separated list of `user id | item id | rating | timestamp`. The time stamps are unix seconds since 1/1/1970 UTC "
   ]
  },
  {
   "cell_type": "code",
   "execution_count": 2,
   "id": "6142664b-fbef-412a-a6b1-20ba62b3dbef",
   "metadata": {},
   "outputs": [
    {
     "name": "stdout",
     "output_type": "stream",
     "text": [
      "+------+------+------+---------+\n",
      "|userId|itemId|rating|timestamp|\n",
      "+------+------+------+---------+\n",
      "|   196|   242|   3.0|881250949|\n",
      "|   186|   302|   3.0|891717742|\n",
      "|    22|   377|   1.0|878887116|\n",
      "|   244|    51|   2.0|880606923|\n",
      "|   166|   346|   1.0|886397596|\n",
      "+------+------+------+---------+\n",
      "only showing top 5 rows\n",
      "\n"
     ]
    }
   ],
   "source": [
    "schema = StructType([\n",
    "    StructField(\"userId\", IntegerType()),\n",
    "    StructField(\"itemId\", IntegerType()),\n",
    "    StructField(\"rating\", DoubleType()),\n",
    "    StructField(\"timestamp\", IntegerType())\n",
    "])\n",
    "\n",
    "df_data = spark.read.csv(\"./ml-100k/u.data\", sep=\"\\t\", schema=schema, header=False)\n",
    "df_data.show(5)"
   ]
  },
  {
   "cell_type": "markdown",
   "id": "12ef296e-4be2-4270-b558-9a0ee95e8c77",
   "metadata": {},
   "source": [
    "## Splitting the data\n",
    "Spliting the data by 80/20 for train and test purposes using randomSplit feature on spark dataframes."
   ]
  },
  {
   "cell_type": "code",
   "execution_count": 3,
   "id": "a3bfa87a-2280-4593-bad8-be69fa48e9bf",
   "metadata": {},
   "outputs": [
    {
     "name": "stdout",
     "output_type": "stream",
     "text": [
      "Train size:  79991\n",
      "Test size:  20009\n"
     ]
    }
   ],
   "source": [
    "df_train, df_test = df_data.randomSplit([0.80, 0.20], seed=45)\n",
    "# show the size of each df\n",
    "print(\"Train size: \", df_train.count())\n",
    "print(\"Test size: \", df_test.count())"
   ]
  },
  {
   "cell_type": "markdown",
   "id": "8e2b8f41-5ee3-4061-86aa-a8c8e387acb9",
   "metadata": {},
   "source": [
    "## Train\n",
    "taking recommendation for hyper params from [here](http://mymedialite.net/examples/datasets.html)"
   ]
  },
  {
   "cell_type": "code",
   "execution_count": 4,
   "id": "feb47d5a-bc90-4770-b673-8fc40a8103b7",
   "metadata": {},
   "outputs": [
    {
     "name": "stderr",
     "output_type": "stream",
     "text": [
      "24/01/21 20:42:01 WARN InstanceBuilder: Failed to load implementation from:dev.ludovic.netlib.blas.JNIBLAS\n",
      "24/01/21 20:42:01 WARN InstanceBuilder: Failed to load implementation from:dev.ludovic.netlib.lapack.JNILAPACK\n"
     ]
    }
   ],
   "source": [
    "RANK = 10\n",
    "MAX_ITER = 15\n",
    "REG_PARAM = 0.05\n",
    "\n",
    "COL_USER = \"userId\"\n",
    "COL_ITEM = \"itemId\"\n",
    "COL_RATING = \"rating\"\n",
    "COL_PREDICTION = \"prediction\"\n",
    "COL_TIMESTAMP = \"timestamp\"\n",
    "\n",
    "als = ALS(\n",
    "    maxIter=MAX_ITER, \n",
    "    rank=RANK,\n",
    "    regParam=REG_PARAM, \n",
    "    userCol=COL_USER, \n",
    "    itemCol=COL_ITEM, \n",
    "    ratingCol=COL_RATING, \n",
    "    coldStartStrategy=\"drop\"\n",
    ")\n",
    "\n",
    "model = als.fit(df_train)"
   ]
  },
  {
   "cell_type": "markdown",
   "id": "3dc0dacc-ff49-4da2-9981-997f86351b06",
   "metadata": {},
   "source": [
    "## Evaluating the Model"
   ]
  },
  {
   "cell_type": "markdown",
   "id": "6cd0e367-5616-4524-837a-77ed63968b4d",
   "metadata": {},
   "source": [
    "Evaluating the model performance with metrics like RMSE, MAE, R2 and Explained Variance."
   ]
  },
  {
   "cell_type": "code",
   "execution_count": 5,
   "id": "fab60951-2bab-48c9-a711-b0ddbd239ee8",
   "metadata": {},
   "outputs": [
    {
     "name": "stdout",
     "output_type": "stream",
     "text": [
      "+------+------+------+---------+----------+\n",
      "|userId|itemId|rating|timestamp|prediction|\n",
      "+------+------+------+---------+----------+\n",
      "|   148|    98|   3.0|877017714|  4.345466|\n",
      "|   148|   116|   5.0|877398648| 3.5346677|\n",
      "|   148|   140|   1.0|877019882| 2.6252813|\n",
      "|   148|   163|   4.0|877021402| 3.7345974|\n",
      "|   148|   177|   2.0|877020715| 4.8391724|\n",
      "|   148|   181|   5.0|877399135| 4.3997464|\n",
      "|   148|   185|   1.0|877398385|  4.905327|\n",
      "|   148|   222|   4.0|877398901| 4.4192543|\n",
      "|   148|   418|   3.0|877019251| 3.6862793|\n",
      "|   148|   521|   1.0|877398836|  3.476709|\n",
      "|   148|   549|   3.0|877398385|  3.962182|\n",
      "|   463|    14|   1.0|890453075|   3.60675|\n",
      "|   463|    16|   4.0|877385830| 1.9752834|\n",
      "|   463|   125|   4.0|877385590| 3.4353237|\n",
      "|   463|   151|   4.0|877385341|  3.058948|\n",
      "|   463|   249|   2.0|889936035| 1.4408547|\n",
      "|   463|   253|   5.0|877387935|  2.502262|\n",
      "|   463|   301|   5.0|889936512| 2.3057375|\n",
      "|   463|   362|   1.0|889943741| 2.8863873|\n",
      "|   463|   473|   4.0|877385731| 2.7046232|\n",
      "+------+------+------+---------+----------+\n",
      "only showing top 20 rows\n",
      "\n"
     ]
    }
   ],
   "source": [
    "df_prediction = model.transform(df_test)\n",
    "df_prediction.show()"
   ]
  },
  {
   "cell_type": "code",
   "execution_count": 6,
   "id": "e60f80a9-4f3b-4e35-8f9e-590443ae9df3",
   "metadata": {},
   "outputs": [
    {
     "name": "stdout",
     "output_type": "stream",
     "text": [
      "Root-mean-square error = 0.9567427744947872\n",
      "Mean absolute error = 0.7423525855668276\n",
      "R2 score = 0.2709882370597655\n",
      "Explained variance = 0.672904484834605\n"
     ]
    }
   ],
   "source": [
    "# Evaluate the model by computing the RMSE on the test data\n",
    "evaluator = RegressionEvaluator(metricName=\"rmse\", labelCol=COL_RATING, predictionCol=COL_PREDICTION)\n",
    "rmse = evaluator.evaluate(df_prediction)\n",
    "print(\"Root-mean-square error = \" + str(rmse))\n",
    "\n",
    "# MAE\n",
    "evaluator = RegressionEvaluator(metricName=\"mae\", labelCol=COL_RATING, predictionCol=COL_PREDICTION)\n",
    "mae = evaluator.evaluate(df_prediction)\n",
    "print(\"Mean absolute error = \" + str(mae))\n",
    "\n",
    "# R2 score\n",
    "evaluator = RegressionEvaluator(metricName=\"r2\", labelCol=COL_RATING, predictionCol=COL_PREDICTION)\n",
    "r2 = evaluator.evaluate(df_prediction)\n",
    "print(\"R2 score = \" + str(r2))\n",
    "\n",
    "# Explained variance\n",
    "evaluator = RegressionEvaluator(metricName=\"var\", labelCol=COL_RATING, predictionCol=COL_PREDICTION)\n",
    "var = evaluator.evaluate(df_prediction)\n",
    "print(\"Explained variance = \" + str(var))\n"
   ]
  },
  {
   "cell_type": "markdown",
   "id": "9812d88c-3f25-443e-b515-314d5bd88ab6",
   "metadata": {},
   "source": [
    "for fine tuning lets try with different cominations of these parameters and chose the best performing params for metric."
   ]
  },
  {
   "cell_type": "code",
   "execution_count": 7,
   "id": "f3c4fbaf",
   "metadata": {
    "scrolled": true
   },
   "outputs": [
    {
     "name": "stdout",
     "output_type": "stream",
     "text": [
      "rank: 4, maxIter: 10, regParam: 0.05, RMSE: 0.9316641679705179\n",
      "rank: 4, maxIter: 10, regParam: 0.1, RMSE: 0.9219903819291951\n",
      "rank: 4, maxIter: 10, regParam: 0.15, RMSE: 0.9263350517142951\n",
      "rank: 4, maxIter: 15, regParam: 0.05, RMSE: 0.9295670982885488\n",
      "rank: 4, maxIter: 15, regParam: 0.1, RMSE: 0.9193331016818193\n",
      "rank: 4, maxIter: 15, regParam: 0.15, RMSE: 0.9217740259492229\n",
      "rank: 4, maxIter: 20, regParam: 0.05, RMSE: 0.929506961872426\n",
      "rank: 4, maxIter: 20, regParam: 0.1, RMSE: 0.9180518738412239\n",
      "rank: 4, maxIter: 20, regParam: 0.15, RMSE: 0.9200244481859389\n",
      "rank: 5, maxIter: 10, regParam: 0.05, RMSE: 0.9326016133416611\n",
      "rank: 5, maxIter: 10, regParam: 0.1, RMSE: 0.9178282290325158\n",
      "rank: 5, maxIter: 10, regParam: 0.15, RMSE: 0.9227998511901279\n",
      "rank: 5, maxIter: 15, regParam: 0.05, RMSE: 0.93109669777094\n",
      "rank: 5, maxIter: 15, regParam: 0.1, RMSE: 0.9147788407289761\n",
      "rank: 5, maxIter: 15, regParam: 0.15, RMSE: 0.9187885729125281\n",
      "rank: 5, maxIter: 20, regParam: 0.05, RMSE: 0.9308216849804807\n",
      "rank: 5, maxIter: 20, regParam: 0.1, RMSE: 0.9139130651293403\n",
      "rank: 5, maxIter: 20, regParam: 0.15, RMSE: 0.9176142231602626\n",
      "rank: 6, maxIter: 10, regParam: 0.05, RMSE: 0.9391121521305288\n",
      "rank: 6, maxIter: 10, regParam: 0.1, RMSE: 0.9200341564473417\n",
      "rank: 6, maxIter: 10, regParam: 0.15, RMSE: 0.9217228310817017\n",
      "rank: 6, maxIter: 15, regParam: 0.05, RMSE: 0.9389236070543601\n",
      "rank: 6, maxIter: 15, regParam: 0.1, RMSE: 0.9177965491158337\n",
      "rank: 6, maxIter: 15, regParam: 0.15, RMSE: 0.9189227769892455\n",
      "rank: 6, maxIter: 20, regParam: 0.05, RMSE: 0.9385375314552015\n",
      "rank: 6, maxIter: 20, regParam: 0.1, RMSE: 0.9164909239034909\n",
      "rank: 6, maxIter: 20, regParam: 0.15, RMSE: 0.9179690025829957\n",
      "rank: 7, maxIter: 10, regParam: 0.05, RMSE: 0.9433758616271044\n",
      "rank: 7, maxIter: 10, regParam: 0.1, RMSE: 0.9184992205283438\n",
      "rank: 7, maxIter: 10, regParam: 0.15, RMSE: 0.9211806799713959\n",
      "rank: 7, maxIter: 15, regParam: 0.05, RMSE: 0.943055844626759\n",
      "rank: 7, maxIter: 15, regParam: 0.1, RMSE: 0.9165765944040755\n",
      "rank: 7, maxIter: 15, regParam: 0.15, RMSE: 0.9180869996713708\n",
      "rank: 7, maxIter: 20, regParam: 0.05, RMSE: 0.941038207872272\n",
      "rank: 7, maxIter: 20, regParam: 0.1, RMSE: 0.9156013454021628\n",
      "rank: 7, maxIter: 20, regParam: 0.15, RMSE: 0.9169308273713722\n",
      "rank: 8, maxIter: 10, regParam: 0.05, RMSE: 0.944638735199344\n",
      "rank: 8, maxIter: 10, regParam: 0.1, RMSE: 0.9192560225340971\n",
      "rank: 8, maxIter: 10, regParam: 0.15, RMSE: 0.9219171742198157\n",
      "rank: 8, maxIter: 15, regParam: 0.05, RMSE: 0.9460799041144292\n",
      "rank: 8, maxIter: 15, regParam: 0.1, RMSE: 0.9163718132189599\n",
      "rank: 8, maxIter: 15, regParam: 0.15, RMSE: 0.9178673957779033\n",
      "rank: 8, maxIter: 20, regParam: 0.05, RMSE: 0.9460423725606739\n",
      "rank: 8, maxIter: 20, regParam: 0.1, RMSE: 0.915109721051682\n",
      "rank: 8, maxIter: 20, regParam: 0.15, RMSE: 0.9163471637854068\n",
      "rank: 9, maxIter: 10, regParam: 0.05, RMSE: 0.9505482928955353\n",
      "rank: 9, maxIter: 10, regParam: 0.1, RMSE: 0.9195332879442718\n",
      "rank: 9, maxIter: 10, regParam: 0.15, RMSE: 0.9209559581510044\n",
      "rank: 9, maxIter: 15, regParam: 0.05, RMSE: 0.953549893864483\n",
      "rank: 9, maxIter: 15, regParam: 0.1, RMSE: 0.9186641304641943\n",
      "rank: 9, maxIter: 15, regParam: 0.15, RMSE: 0.9181741944969618\n",
      "rank: 9, maxIter: 20, regParam: 0.05, RMSE: 0.9548828938190924\n",
      "rank: 9, maxIter: 20, regParam: 0.1, RMSE: 0.9182831389736469\n",
      "rank: 9, maxIter: 20, regParam: 0.15, RMSE: 0.9170834100830001\n",
      "rank: 10, maxIter: 10, regParam: 0.05, RMSE: 0.957416364292154\n",
      "rank: 10, maxIter: 10, regParam: 0.1, RMSE: 0.9210588488616832\n",
      "rank: 10, maxIter: 10, regParam: 0.15, RMSE: 0.9213750221267328\n",
      "rank: 10, maxIter: 15, regParam: 0.05, RMSE: 0.9567427744947872\n",
      "rank: 10, maxIter: 15, regParam: 0.1, RMSE: 0.9190417360803841\n",
      "rank: 10, maxIter: 15, regParam: 0.15, RMSE: 0.9178538986835483\n",
      "rank: 10, maxIter: 20, regParam: 0.05, RMSE: 0.956777598653701\n",
      "rank: 10, maxIter: 20, regParam: 0.1, RMSE: 0.9175425343227489\n",
      "rank: 10, maxIter: 20, regParam: 0.15, RMSE: 0.9162903601476776\n",
      "rank: 11, maxIter: 10, regParam: 0.05, RMSE: 0.9585027926591516\n",
      "rank: 11, maxIter: 10, regParam: 0.1, RMSE: 0.9188470374771898\n",
      "rank: 11, maxIter: 10, regParam: 0.15, RMSE: 0.9198043632626861\n",
      "rank: 11, maxIter: 15, regParam: 0.05, RMSE: 0.9582499913602933\n",
      "rank: 11, maxIter: 15, regParam: 0.1, RMSE: 0.9162972696462475\n",
      "rank: 11, maxIter: 15, regParam: 0.15, RMSE: 0.9164028723034061\n",
      "rank: 11, maxIter: 20, regParam: 0.05, RMSE: 0.9587022099560735\n",
      "rank: 11, maxIter: 20, regParam: 0.1, RMSE: 0.9158053167289598\n",
      "rank: 11, maxIter: 20, regParam: 0.15, RMSE: 0.9153076955319962\n",
      "rank: 12, maxIter: 10, regParam: 0.05, RMSE: 0.9592002186408823\n",
      "rank: 12, maxIter: 10, regParam: 0.1, RMSE: 0.919099716627793\n",
      "rank: 12, maxIter: 10, regParam: 0.15, RMSE: 0.9198068490027288\n",
      "rank: 12, maxIter: 15, regParam: 0.05, RMSE: 0.9619591760874\n",
      "rank: 12, maxIter: 15, regParam: 0.1, RMSE: 0.917376395259208\n",
      "rank: 12, maxIter: 15, regParam: 0.15, RMSE: 0.9163996450150028\n",
      "rank: 12, maxIter: 20, regParam: 0.05, RMSE: 0.9634002590501699\n",
      "rank: 12, maxIter: 20, regParam: 0.1, RMSE: 0.9167363956230895\n",
      "rank: 12, maxIter: 20, regParam: 0.15, RMSE: 0.9153060048262835\n",
      "rank: 13, maxIter: 10, regParam: 0.05, RMSE: 0.9636156259192231\n",
      "rank: 13, maxIter: 10, regParam: 0.1, RMSE: 0.9187383659464693\n",
      "rank: 13, maxIter: 10, regParam: 0.15, RMSE: 0.9194261730725983\n",
      "rank: 13, maxIter: 15, regParam: 0.05, RMSE: 0.965525264043071\n",
      "rank: 13, maxIter: 15, regParam: 0.1, RMSE: 0.9181757007780785\n",
      "rank: 13, maxIter: 15, regParam: 0.15, RMSE: 0.916607055685502\n",
      "rank: 13, maxIter: 20, regParam: 0.05, RMSE: 0.9664240768395769\n",
      "rank: 13, maxIter: 20, regParam: 0.1, RMSE: 0.9178595439209701\n",
      "rank: 13, maxIter: 20, regParam: 0.15, RMSE: 0.9157150701817487\n",
      "rank: 14, maxIter: 10, regParam: 0.05, RMSE: 0.9690085067755757\n",
      "rank: 14, maxIter: 10, regParam: 0.1, RMSE: 0.9224564690939409\n",
      "rank: 14, maxIter: 10, regParam: 0.15, RMSE: 0.9211666137907168\n",
      "rank: 14, maxIter: 15, regParam: 0.05, RMSE: 0.9710651159054983\n",
      "rank: 14, maxIter: 15, regParam: 0.1, RMSE: 0.9207630591193114\n",
      "rank: 14, maxIter: 15, regParam: 0.15, RMSE: 0.9170749152313846\n",
      "rank: 14, maxIter: 20, regParam: 0.05, RMSE: 0.9705519016711887\n",
      "rank: 14, maxIter: 20, regParam: 0.1, RMSE: 0.920165356819099\n",
      "rank: 14, maxIter: 20, regParam: 0.15, RMSE: 0.9158116143191939\n",
      "rank: 15, maxIter: 10, regParam: 0.05, RMSE: 0.9671431400174668\n",
      "rank: 15, maxIter: 10, regParam: 0.1, RMSE: 0.9211834932364213\n",
      "rank: 15, maxIter: 10, regParam: 0.15, RMSE: 0.9201405497091467\n",
      "rank: 15, maxIter: 15, regParam: 0.05, RMSE: 0.969910923965188\n",
      "rank: 15, maxIter: 15, regParam: 0.1, RMSE: 0.9193942265093594\n",
      "rank: 15, maxIter: 15, regParam: 0.15, RMSE: 0.9163558035630556\n",
      "rank: 15, maxIter: 20, regParam: 0.05, RMSE: 0.9713108560255386\n",
      "rank: 15, maxIter: 20, regParam: 0.1, RMSE: 0.9183999626233879\n",
      "rank: 15, maxIter: 20, regParam: 0.15, RMSE: 0.9151353017660171\n",
      "rank: 16, maxIter: 10, regParam: 0.05, RMSE: 0.9681138554899037\n",
      "rank: 16, maxIter: 10, regParam: 0.1, RMSE: 0.919215903913021\n",
      "rank: 16, maxIter: 10, regParam: 0.15, RMSE: 0.9192586703677907\n",
      "rank: 16, maxIter: 15, regParam: 0.05, RMSE: 0.9707252208521255\n",
      "rank: 16, maxIter: 15, regParam: 0.1, RMSE: 0.9186156652428712\n",
      "rank: 16, maxIter: 15, regParam: 0.15, RMSE: 0.9164503551571777\n",
      "rank: 16, maxIter: 20, regParam: 0.05, RMSE: 0.9727823054759952\n",
      "rank: 16, maxIter: 20, regParam: 0.1, RMSE: 0.91832426791379\n",
      "rank: 16, maxIter: 20, regParam: 0.15, RMSE: 0.9155746434296648\n",
      "rank: 17, maxIter: 10, regParam: 0.05, RMSE: 0.9682421324426473\n",
      "rank: 17, maxIter: 10, regParam: 0.1, RMSE: 0.9208591257320439\n",
      "rank: 17, maxIter: 10, regParam: 0.15, RMSE: 0.9205035280976395\n",
      "rank: 17, maxIter: 15, regParam: 0.05, RMSE: 0.9724930073056981\n",
      "rank: 17, maxIter: 15, regParam: 0.1, RMSE: 0.9194963022924265\n",
      "rank: 17, maxIter: 15, regParam: 0.15, RMSE: 0.9170928601078988\n",
      "rank: 17, maxIter: 20, regParam: 0.05, RMSE: 0.974093479760051\n",
      "rank: 17, maxIter: 20, regParam: 0.1, RMSE: 0.9186426963786765\n",
      "rank: 17, maxIter: 20, regParam: 0.15, RMSE: 0.9159857222347798\n",
      "rank: 18, maxIter: 10, regParam: 0.05, RMSE: 0.9698920015128967\n",
      "rank: 18, maxIter: 10, regParam: 0.1, RMSE: 0.9209321247474144\n",
      "rank: 18, maxIter: 10, regParam: 0.15, RMSE: 0.9208552253861171\n",
      "rank: 18, maxIter: 15, regParam: 0.05, RMSE: 0.9725529938443451\n",
      "rank: 18, maxIter: 15, regParam: 0.1, RMSE: 0.9191048856987222\n",
      "rank: 18, maxIter: 15, regParam: 0.15, RMSE: 0.9171833052226223\n",
      "rank: 18, maxIter: 20, regParam: 0.05, RMSE: 0.9736758843734746\n",
      "rank: 18, maxIter: 20, regParam: 0.1, RMSE: 0.9182251100778823\n",
      "rank: 18, maxIter: 20, regParam: 0.15, RMSE: 0.9158869534784115\n",
      "rank: 19, maxIter: 10, regParam: 0.05, RMSE: 0.9698398263144473\n",
      "rank: 19, maxIter: 10, regParam: 0.1, RMSE: 0.91945722652398\n",
      "rank: 19, maxIter: 10, regParam: 0.15, RMSE: 0.9203043704085667\n",
      "rank: 19, maxIter: 15, regParam: 0.05, RMSE: 0.9742703994245784\n",
      "rank: 19, maxIter: 15, regParam: 0.1, RMSE: 0.918942434357754\n",
      "rank: 19, maxIter: 15, regParam: 0.15, RMSE: 0.9170451439880194\n",
      "rank: 19, maxIter: 20, regParam: 0.05, RMSE: 0.976475510657508\n",
      "rank: 19, maxIter: 20, regParam: 0.1, RMSE: 0.9191166487125987\n",
      "rank: 19, maxIter: 20, regParam: 0.15, RMSE: 0.9159367687270763\n",
      "rank: 20, maxIter: 10, regParam: 0.05, RMSE: 0.9708391448626107\n",
      "rank: 20, maxIter: 10, regParam: 0.1, RMSE: 0.918638903094274\n",
      "rank: 20, maxIter: 10, regParam: 0.15, RMSE: 0.9202327956358854\n",
      "rank: 20, maxIter: 15, regParam: 0.05, RMSE: 0.9750771286196279\n",
      "rank: 20, maxIter: 15, regParam: 0.1, RMSE: 0.9173040451638722\n",
      "rank: 20, maxIter: 15, regParam: 0.15, RMSE: 0.9165234955206059\n",
      "rank: 20, maxIter: 20, regParam: 0.05, RMSE: 0.9771404754373032\n",
      "rank: 20, maxIter: 20, regParam: 0.1, RMSE: 0.9169138027781322\n",
      "rank: 20, maxIter: 20, regParam: 0.15, RMSE: 0.9153298338117551\n",
      "best rmse was: 0.9139130651293403, with params: {'rank': 5, 'maxIter': 20, 'regParam': 0.1}\n"
     ]
    }
   ],
   "source": [
    "# SOME more trainsing with different parameters\n",
    "best_rmse = None\n",
    "params = {\n",
    "    \"rank\": None,\n",
    "    \"maxIter\": None,\n",
    "    \"regParam\": None\n",
    "}\n",
    "for rank in range(4, 21):\n",
    "    for maxIter in [10, 15, 20]:\n",
    "        for regParam in [0.05, 0.1, 0.15]:\n",
    "            als = ALS(\n",
    "                maxIter=maxIter, \n",
    "                rank=rank,\n",
    "                regParam=regParam, \n",
    "                userCol=COL_USER, \n",
    "                itemCol=COL_ITEM, \n",
    "                ratingCol=COL_RATING, \n",
    "                coldStartStrategy=\"drop\"\n",
    "            )\n",
    "            model = als.fit(df_train)\n",
    "            df_prediction = model.transform(df_test)\n",
    "            evaluator = RegressionEvaluator(metricName=\"rmse\", labelCol=COL_RATING, predictionCol=COL_PREDICTION)\n",
    "            rmse = evaluator.evaluate(df_prediction)\n",
    "            print(\"rank: {}, maxIter: {}, regParam: {}, RMSE: {}\".format(rank, maxIter, regParam, rmse))\n",
    "            if best_rmse is None or best_rmse > rmse:\n",
    "                best_rmse = rmse\n",
    "                params = {\n",
    "                    \"rank\": rank,\n",
    "                    \"maxIter\": maxIter,\n",
    "                    \"regParam\": regParam\n",
    "                }\n",
    "\n",
    "print(f\"best rmse was: {best_rmse}, with params: {params}\")\n",
    "                "
   ]
  },
  {
   "cell_type": "code",
   "execution_count": null,
   "id": "a83822f3-c349-49d0-900c-179187459b72",
   "metadata": {},
   "outputs": [],
   "source": [
    "# cleanup spark instance\n",
    "spark.stop()"
   ]
  }
 ],
 "metadata": {
  "kernelspec": {
   "display_name": "Python 3 (ipykernel)",
   "language": "python",
   "name": "python3"
  },
  "language_info": {
   "codemirror_mode": {
    "name": "ipython",
    "version": 3
   },
   "file_extension": ".py",
   "mimetype": "text/x-python",
   "name": "python",
   "nbconvert_exporter": "python",
   "pygments_lexer": "ipython3",
   "version": "3.8.10"
  }
 },
 "nbformat": 4,
 "nbformat_minor": 5
}
